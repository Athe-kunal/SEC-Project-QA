{
 "cells": [
  {
   "cell_type": "code",
   "execution_count": 3,
   "metadata": {},
   "outputs": [],
   "source": [
    "# from prepline_sec_filings.sections import ALL_SECTIONS,SECTIONS_10K\n",
    "# str(SECTIONS_10K[0]).split(\".\")[1]\n",
    "# [str(i).split(\".\")[1] for i in SECTIONS_10K]"
   ]
  },
  {
   "cell_type": "code",
   "execution_count": 2,
   "metadata": {},
   "outputs": [],
   "source": [
    "from langchain import PromptTemplate"
   ]
  },
  {
   "cell_type": "code",
   "execution_count": 3,
   "metadata": {},
   "outputs": [
    {
     "data": {
      "text/plain": [
       "'The output should be a markdown code snippet formatted in the following schema, including the leading and trailing \"```json\" and \"```\":\\n\\n```json\\n{\\n\\t\"Section_Names\": string  // Name of the sections\\n\\t\"Tickers\": string  // Name of the tickers\\n\\t\"Years\": string  // Years mentioned\\n\\t\"augmented_query\": string  // Augmenting the query to make it richer\\n}\\n```'"
      ]
     },
     "execution_count": 3,
     "metadata": {},
     "output_type": "execute_result"
    }
   ],
   "source": [
    "from langchain.output_parsers import ResponseSchema\n",
    "from langchain.output_parsers import StructuredOutputParser\n",
    "\n",
    "section_names = ResponseSchema(\n",
    "    name=\"Section_Names\",\n",
    "    description=\"Name of the sections\"\n",
    ")\n",
    "\n",
    "tickers = ResponseSchema(\n",
    "    name=\"Tickers\",\n",
    "    description=\"Name of the tickers\"\n",
    ")\n",
    "years = ResponseSchema(\n",
    "    name=\"Years\",\n",
    "    description=\"Years mentioned\"\n",
    ")\n",
    "augmented_query = ResponseSchema(\n",
    "    name=\"augmented_query\",\n",
    "    description=\"Augmenting the query to make it richer\"\n",
    ")\n",
    "\n",
    "response_schema = [\n",
    "    section_names,\n",
    "    tickers,\n",
    "    years,\n",
    "    augmented_query\n",
    "]\n",
    "\n",
    "output_parse = StructuredOutputParser.from_response_schemas(response_schema)\n",
    "format_instructions = output_parse.get_format_instructions()\n",
    "format_instructions"
   ]
  },
  {
   "cell_type": "code",
   "execution_count": null,
   "metadata": {},
   "outputs": [],
   "source": [
    "definitions_of_10q = '''\n",
    "\n",
    "FINANCIAL_STATEMENTS: This section in the 10-Q document is a comprehensive report of a company's financial performance during the quarter. It includes the income statement, balance sheet, and cash flow statement. The financial statements section provides detailed information on the company's revenues, expenses, assets, liabilities, and cash flows.\n",
    "\n",
    "MANAGEMENT_DISCLOSURE: This part of the 10-Q form is essentially a narrative explanation, provided directly by management, of how the company performed during the quarter, the company's current financial condition, and management's perspective on future performance. The discussion is intended to provide context and insight beyond what the financial data alone can show.\n",
    "\n",
    "MARKET_RISK_DISCLOSURES: This section reveals a company's exposure to potential financial losses that could occur due to market changes such as fluctuations in interest rates, foreign exchange rates, commodity prices, or equity prices. It also includes the strategies or measures taken by the company to manage or mitigate these risks.\n",
    "\n",
    "CONTROLS_AND_PROCEDURES: In this part of the document, the company outlines the effectiveness and any changes in its internal control over financial reporting and disclosure controls and procedures. This helps investors assess the quality of the company's financial reporting and its ability to prevent fraud.\n",
    "\n",
    "LEGAL_PROCEEDINGS: Here, the company discloses any material pending legal proceedings, other than ordinary routine litigation incidental to the business. This can include significant litigation, governmental inquiries, or regulatory challenges that the company is facing, which may impact its operations or financial health.\n",
    "\n",
    "RISK_FACTORS: This section enumerates the significant risks that could adversely affect the company's business, operations, industry, financial position, or future financial performance. These risks can range from operational risks to financial, regulatory, and strategic risks.\n",
    "\n",
    "USE_OF_PROCEEDS: This section is particularly relevant for newly public companies or companies that recently issued debt or equity securities. It provides information on how the company has used or plans to use the funds raised from these issues, including details on any material changes in the planned use of proceeds from what the company originally disclosed in the offering.\n",
    "\n",
    "DEFAULTS: This section outlines any significant defaults on senior securities, such as bonds, notes, or preferred stock, that could have an adverse effect on the company's financial position. This information is critical for bondholders and preferred stockholders as it impacts their risk and return.\n",
    "\n",
    "MINE_SAFETY: For companies engaged in mining operations, this section discloses any significant mine safety violations or other regulatory matters required by the Mine Safety and Health Administration. These disclosures provide insights into the company's compliance with safety regulations and potential liabilities.\n",
    "\n",
    "OTHER_INFORMATION: This section serves as a catch-all for any material information that doesn't fit into the other sections. It could include a wide variety of information, such as disclosures about unregistered sales of equity securities, material changes in the rights of security holders, or changes in the company's certifying accountant.\n",
    "'''"
   ]
  },
  {
   "cell_type": "code",
   "execution_count": 10,
   "metadata": {},
   "outputs": [],
   "source": [
    "definitions_of_sections_10K = \"\"\"\n",
    "BUSINESS: Provides an overview of the company's operations, products, services, markets, and competitive landscape.\n",
    "\n",
    "RISK_FACTORS: Identifies and discusses the potential risks and uncertainties that could affect the company's performance and future prospects.\n",
    "\n",
    "UNRESOLVED_STAFF_COMMENTS: Addresses any outstanding comments or inquiries raised by the SEC staff during the review process.\n",
    "\n",
    "PROPERTIES: Describes the company's owned or leased properties, including locations, facilities, and real estate holdings.\n",
    "\n",
    "LEGAL_PROCEEDINGS: Discloses any ongoing or pending legal actions, disputes, or regulatory matters involving the company.\n",
    "\n",
    "MINE_SAFETY: Pertains specifically to mining companies, providing information about safety and compliance measures in mining operations.\n",
    "\n",
    "MARKET_FOR_REGISTRANT_COMMON_EQUITY: Discusses the company's stock market, trading volume, and other relevant information related to its common equity.\n",
    "\n",
    "MANAGEMENT_DISCUSSION: Presents the company's management's analysis of its financial performance, results of operations, and future plans.\n",
    "\n",
    "MARKET_RISK_DISCLOSURES: Highlights the potential risks and uncertainties arising from market conditions that could impact the company's financial position.\n",
    "\n",
    "FINANCIAL_STATEMENTS: Provides the audited financial statements, including the balance sheet, income statement, cash flow statement, and accompanying footnotes.\n",
    "\n",
    "ACCOUNTING_DISAGREEMENTS: Addresses any disagreements or reservations between the company and its auditors regarding accounting practices or financial reporting.\n",
    "\n",
    "CONTROLS_AND_PROCEDURES: Describes the company's internal controls and procedures for financial reporting and compliance with regulations.\n",
    "\n",
    "FOREIGN_JURISDICTIONS: Covers any significant operations or risks related to the company's activities in foreign countries.\n",
    "\n",
    "MANAGEMENT: Provides information about the company's executive officers, their roles, responsibilities, and background.\n",
    "\n",
    "COMPENSATION: Details the compensation packages, including salaries, bonuses, stock options, and other benefits, for the company's executives.\n",
    "\n",
    "PRINCIPAL_STOCKHOLDERS: Lists the major shareholders or beneficial owners who hold a significant stake in the company.\n",
    "\n",
    "RELATED_PARTY_TRANSACTIONS: Discloses any transactions or relationships between the company and its directors, officers, or affiliates.\n",
    "\n",
    "ACCOUNTING_FEES: Reports the fees paid to the company's independent auditors for their services, including audit and non-audit services.\n",
    "\n",
    "EXHIBITS: Includes various supporting documents, agreements, contracts, or other relevant materials referenced throughout the 10-K report.\n",
    "\n",
    "FORM_SUMMARY: Provides a summary of the key information contained in the 10-K report, offering an overview of the company's financial performance and prospects\n",
    "\"\"\"\n",
    "num_returns = 5\n",
    "llm1_template = \"\"\"\n",
    "You are a financial statement analyst, and you have augmented the definition of different sections in 10-K document by the following definitions {definitions_of_sections}.\\n\n",
    "In the definition, we have the format of Section_Name:definition. You have to return the top {num_returns} possible section names as a list that the user is querying about and the\\n\n",
    "stocks that the users are requesting. If the stock name is written, then convert it into its respective ticker. Also, make another key with years that has the list of all the years\\n\n",
    "mentioned in the user query, and if nothing is mentioned, then output last 5 years (not the continuing year). Also, augment the user query into list of sentences,\\n \n",
    "where each sentence is about the specific ticker and query asked on that ticker.\n",
    "User request: \"{user_request}\"\n",
    "{format_instructions}\n",
    "\"\"\"\n",
    "llm_1_prompt_template =PromptTemplate(\n",
    "    input_variables=[\"definitions_of_sections\",\"user_request\",\"num_returns\",\"format_instructions\"],\n",
    "    template = llm1_template\n",
    ")"
   ]
  },
  {
   "cell_type": "code",
   "execution_count": 21,
   "metadata": {},
   "outputs": [],
   "source": [
    "# user_request = \"How much cash does Google and Apple have in their balance sheet?\"\n",
    "user_request = \"For the year 2021-2022, what is the risk associated with Apple stocks?\""
   ]
  },
  {
   "cell_type": "code",
   "execution_count": 22,
   "metadata": {},
   "outputs": [],
   "source": [
    "llm1_prompt =  llm_1_prompt_template.format(\n",
    "    definitions_of_sections=definitions_of_sections_10K,\n",
    "    num_returns=num_returns,\n",
    "    user_request = user_request,\n",
    "    format_instructions=format_instructions\n",
    ")\n",
    "\n",
    "# print(f\"LLM1 Prompt: {llm1_prompt}\")"
   ]
  },
  {
   "cell_type": "code",
   "execution_count": 23,
   "metadata": {},
   "outputs": [],
   "source": [
    "from langchain.llms import OpenAI\n",
    "import os\n",
    "import openai\n",
    "os.environ[\"OPENAI_API_KEY\"] = \"\"\n",
    "openai.api_key = os.environ[\"OPENAI_API_KEY\"]\n",
    "\n",
    "llm = OpenAI(temperature=0.0)"
   ]
  },
  {
   "cell_type": "code",
   "execution_count": 24,
   "metadata": {},
   "outputs": [],
   "source": [
    "output = llm.predict(llm1_prompt)"
   ]
  },
  {
   "cell_type": "code",
   "execution_count": 25,
   "metadata": {},
   "outputs": [
    {
     "name": "stdout",
     "output_type": "stream",
     "text": [
      "\n",
      "```json\n",
      "{\n",
      "\t\"Section_Names\": [\"Risk_Factors\", \"Market_Risk_Disclosures\", \"Legal_Proceedings\", \"Mine_Safety\", \"Controls_and_Procedures\"],\n",
      "\t\"Tickers\": [\"AAPL\"],\n",
      "\t\"Years\": [\"2021\", \"2022\"],\n",
      "\t\"augmented_query\": [\"What is the risk associated with Apple stocks in 2021?\", \"What is the risk associated with Apple stocks in 2022?\"]\n",
      "}\n",
      "```\n"
     ]
    }
   ],
   "source": [
    "print(output)"
   ]
  },
  {
   "cell_type": "code",
   "execution_count": 26,
   "metadata": {},
   "outputs": [
    {
     "data": {
      "text/plain": [
       "{'Section_Names': ['Risk_Factors',\n",
       "  'Market_Risk_Disclosures',\n",
       "  'Legal_Proceedings',\n",
       "  'Mine_Safety',\n",
       "  'Controls_and_Procedures'],\n",
       " 'Tickers': ['AAPL'],\n",
       " 'Years': ['2021', '2022'],\n",
       " 'augmented_query': ['What is the risk associated with Apple stocks in 2021?',\n",
       "  'What is the risk associated with Apple stocks in 2022?']}"
      ]
     },
     "execution_count": 26,
     "metadata": {},
     "output_type": "execute_result"
    }
   ],
   "source": [
    "output_dict = output_parse.parse(output)\n",
    "output_dict"
   ]
  },
  {
   "cell_type": "code",
   "execution_count": 27,
   "metadata": {},
   "outputs": [],
   "source": [
    "output_dict['Section_Names'] = [i.upper() for i in output_dict['Section_Names']]"
   ]
  },
  {
   "cell_type": "code",
   "execution_count": 28,
   "metadata": {},
   "outputs": [
    {
     "data": {
      "text/plain": [
       "{'Section_Names': ['RISK_FACTORS',\n",
       "  'MARKET_RISK_DISCLOSURES',\n",
       "  'LEGAL_PROCEEDINGS',\n",
       "  'MINE_SAFETY',\n",
       "  'CONTROLS_AND_PROCEDURES'],\n",
       " 'Tickers': ['AAPL'],\n",
       " 'Years': ['2021', '2022'],\n",
       " 'augmented_query': ['What is the risk associated with Apple stocks in 2021?',\n",
       "  'What is the risk associated with Apple stocks in 2022?']}"
      ]
     },
     "execution_count": 28,
     "metadata": {},
     "output_type": "execute_result"
    }
   ],
   "source": [
    "output_dict"
   ]
  },
  {
   "cell_type": "code",
   "execution_count": null,
   "metadata": {},
   "outputs": [],
   "source": []
  }
 ],
 "metadata": {
  "kernelspec": {
   "display_name": "PyTorch",
   "language": "python",
   "name": "python3"
  },
  "language_info": {
   "codemirror_mode": {
    "name": "ipython",
    "version": 3
   },
   "file_extension": ".py",
   "mimetype": "text/x-python",
   "name": "python",
   "nbconvert_exporter": "python",
   "pygments_lexer": "ipython3",
   "version": "3.9.16"
  },
  "orig_nbformat": 4
 },
 "nbformat": 4,
 "nbformat_minor": 2
}
